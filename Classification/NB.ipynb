{
 "cells": [
  {
   "cell_type": "code",
   "execution_count": 1,
   "metadata": {},
   "outputs": [
    {
     "data": {
      "text/plain": [
       "GaussianNB()"
      ]
     },
     "execution_count": 1,
     "metadata": {},
     "output_type": "execute_result"
    }
   ],
   "source": [
    "# Guassain Naive bayes\n",
    "from sklearn.naive_bayes import GaussianNB\n",
    "import numpy as np\n",
    "X_train = np.array([[-1, -1], [-2, -4], [-4, -6], [1, 2]])\n",
    "Y_train = np.array([1, 1, 2, 1])\n",
    "\n",
    "GNBclf = GaussianNB()\n",
    "GNBclf.fit(X_train, Y_train)"
   ]
  },
  {
   "cell_type": "code",
   "execution_count": 2,
   "metadata": {},
   "outputs": [
    {
     "name": "stdout",
     "output_type": "stream",
     "text": [
      "[1]\n"
     ]
    }
   ],
   "source": [
    "print((GNBclf.predict([[-1,-1]])))"
   ]
  },
  {
   "cell_type": "code",
   "execution_count": 21,
   "metadata": {},
   "outputs": [
    {
     "name": "stdout",
     "output_type": "stream",
     "text": [
      "[[7 2]\n",
      " [1 2]]\n",
      "True negative =  7\n",
      "False  negative=  1\n",
      "False positive =  2\n",
      "True Positive =  2\n",
      "Recall=  0.5\n",
      "Precision=  0.6666666666666666\n",
      "Accuracy=  0.75\n"
     ]
    },
    {
     "data": {
      "image/png": "[encoded data removed]",
      "text/plain": [
       "<Figure size 432x288 with 1 Axes>"
      ]
     },
     "metadata": {
      "needs_background": "light"
     },
     "output_type": "display_data"
    }
   ],
   "source": [
    "from sklearn.metrics import confusion_matrix, accuracy_score\n",
    "X_train = np.array([[-1, -1], [-2, -4], [-4, -6], [1, 2],[0,1],[1,1],[-1, -1], [-2, -4], [-4, -6], [1, 2],[0,1],[1,1]])\n",
    "y_train = np.array([1, 1, 2, 1,1,2,1, 1, 2, 1,1,2])\n",
    "\n",
    "X_test = np.array([[-1, -1], [-2, -4], [-4, -6], [1, 2],[0,1],[1,1],[-1, -1], [-2, -4], [-4, -6], [1, 2],[0,1],[1,1]])\n",
    "y_test = np.array([1, 1, 2, 1,1,2,1, 1, 2, 1,1,1])\n",
    "\n",
    "GNBclf = GaussianNB()\n",
    "GNBclf.fit(X_train, y_train)\n",
    "y_pred=GNBclf.predict(X_test)\n",
    "\n",
    "from sklearn.metrics import confusion_matrix, accuracy_score\n",
    "# Performance Evaluation\n",
    "cm = confusion_matrix(y_test, y_pred)\n",
    "print(cm)\n",
    "print('True negative = ', cm[0][0])\n",
    "print('False  negative= ', cm[1][0])\n",
    "print('False positive = ', cm[0][1])\n",
    "print('True Positive = ', cm[1][1])\n",
    "print('Recall= ', (cm[1][1]/(cm[1][1]+cm[0][1])))\n",
    "print('Precision= ', (cm[1][1]/(cm[1][1]+cm[1][0])))\n",
    "print('Accuracy= ', ((cm[1][1]+cm[0][0])/(cm[1][1]+cm[1][0]+cm[0][1]+cm[0][0])))\n",
    "import seaborn as sn\n",
    "import matplotlib.pyplot as plt \n",
    "sn.heatmap(cm.T, square=True, annot=True, fmt='d', cbar=False)\n",
    "plt.xlabel('Actual label')\n",
    "plt.ylabel('predicted label')\n",
    "plt.show()\n",
    "\n"
   ]
  }
 ],
 "metadata": {
  "kernelspec": {
   "display_name": "Python 3",
   "language": "python",
   "name": "python3"
  },
  "language_info": {
   "codemirror_mode": {
    "name": "ipython",
    "version": 3
   },
   "file_extension": ".py",
   "mimetype": "text/x-python",
   "name": "python",
   "nbconvert_exporter": "python",
   "pygments_lexer": "ipython3",
   "version": "3.8.3"
  }
 },
 "nbformat": 4,
 "nbformat_minor": 5
}
