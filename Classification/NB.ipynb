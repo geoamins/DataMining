{
 "cells": [
  {
   "cell_type": "code",
   "execution_count": 3,
   "id": "arbitrary-stations",
   "metadata": {},
   "outputs": [
    {
     "data": {
      "text/plain": [
       "GaussianNB()"
      ]
     },
     "execution_count": 3,
     "metadata": {},
     "output_type": "execute_result"
    }
   ],
   "source": [
    "# Guassain Naive bayes\n",
    "from sklearn.naive_bayes import GaussianNB\n",
    "import numpy as np\n",
    "X_train = np.array([[-1, -1], [-2, -4], [-4, -6], [1, 2]])\n",
    "Y_train = np.array([1, 1, 2, 1])\n",
    "\n",
    "GNBclf = GaussianNB()\n",
    "GNBclf.fit(X_train, Y_train)"
   ]
  },
  {
   "cell_type": "code",
   "execution_count": 8,
   "id": "overall-arnold",
   "metadata": {},
   "outputs": [
    {
     "name": "stdout",
     "output_type": "stream",
     "text": [
      "[1]\n"
     ]
    }
   ],
   "source": [
    "print((GNBclf.predict([[-1,-1]])))"
   ]
  }
 ],
 "metadata": {
  "kernelspec": {
   "display_name": "Python 3",
   "language": "python",
   "name": "python3"
  },
  "language_info": {
   "codemirror_mode": {
    "name": "ipython",
    "version": 3
   },
   "file_extension": ".py",
   "mimetype": "text/x-python",
   "name": "python",
   "nbconvert_exporter": "python",
   "pygments_lexer": "ipython3",
   "version": "3.7.9"
  }
 },
 "nbformat": 4,
 "nbformat_minor": 5
}
